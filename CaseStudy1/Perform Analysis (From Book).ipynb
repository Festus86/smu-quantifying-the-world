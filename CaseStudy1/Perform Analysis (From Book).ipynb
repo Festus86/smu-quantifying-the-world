{
 "cells": [
  {
   "cell_type": "markdown",
   "metadata": {},
   "source": [
    "# Analysis on RTLS\n",
    "This file is shamelessly taken from the book for the most part\n",
    "\n",
    "This is taken from the Nolan/Duncan Data Science textbook. I did not write any of it personally\n",
    "\n",
    "First run the file [/notebooks/CaseStudy1/Clean%20Data%20(From%20Book).ipynb](/notebooks/CaseStudy1/Clean%20Data%20(From%20Book).ipynb)"
   ]
  },
  {
   "cell_type": "code",
   "execution_count": 1,
   "metadata": {},
   "outputs": [],
   "source": [
    "DATA_FRAME_SOURCE = '../data/offline.final.trace.csv'"
   ]
  },
  {
   "cell_type": "code",
   "execution_count": 4,
   "metadata": {},
   "outputs": [],
   "source": [
    "offline = read.csv(DATA_FRAME_SOURCE, row.names=1)"
   ]
  },
  {
   "cell_type": "code",
   "execution_count": 6,
   "metadata": {},
   "outputs": [
    {
     "data": {
      "text/html": [
       "<table>\n",
       "<thead><tr><th scope=col>time</th><th scope=col>posX</th><th scope=col>posY</th><th scope=col>orientation</th><th scope=col>mac</th><th scope=col>signal</th><th scope=col>rawTime</th><th scope=col>angle</th></tr></thead>\n",
       "<tbody>\n",
       "\t<tr><td>2006-02-11 01:31:58</td><td>0                  </td><td>0                  </td><td>0                  </td><td>00:14:bf:b1:97:8a  </td><td>-38                </td><td>1.139643e+12       </td><td>0                  </td></tr>\n",
       "\t<tr><td>2006-02-11 01:31:58</td><td>0                  </td><td>0                  </td><td>0                  </td><td>00:14:bf:b1:97:90  </td><td>-56                </td><td>1.139643e+12       </td><td>0                  </td></tr>\n",
       "\t<tr><td>2006-02-11 01:31:58</td><td>0                  </td><td>0                  </td><td>0                  </td><td>00:0f:a3:39:e1:c0  </td><td>-53                </td><td>1.139643e+12       </td><td>0                  </td></tr>\n",
       "\t<tr><td>2006-02-11 01:31:58</td><td>0                  </td><td>0                  </td><td>0                  </td><td>00:14:bf:b1:97:8d  </td><td>-65                </td><td>1.139643e+12       </td><td>0                  </td></tr>\n",
       "\t<tr><td>2006-02-11 01:31:58</td><td>0                  </td><td>0                  </td><td>0                  </td><td>00:14:bf:b1:97:81  </td><td>-65                </td><td>1.139643e+12       </td><td>0                  </td></tr>\n",
       "\t<tr><td>2006-02-11 01:31:58</td><td>0                  </td><td>0                  </td><td>0                  </td><td>00:14:bf:3b:c7:c6  </td><td>-66                </td><td>1.139643e+12       </td><td>0                  </td></tr>\n",
       "</tbody>\n",
       "</table>\n"
      ],
      "text/latex": [
       "\\begin{tabular}{r|llllllll}\n",
       " time & posX & posY & orientation & mac & signal & rawTime & angle\\\\\n",
       "\\hline\n",
       "\t 2006-02-11 01:31:58 & 0                   & 0                   & 0                   & 00:14:bf:b1:97:8a   & -38                 & 1.139643e+12        & 0                  \\\\\n",
       "\t 2006-02-11 01:31:58 & 0                   & 0                   & 0                   & 00:14:bf:b1:97:90   & -56                 & 1.139643e+12        & 0                  \\\\\n",
       "\t 2006-02-11 01:31:58 & 0                   & 0                   & 0                   & 00:0f:a3:39:e1:c0   & -53                 & 1.139643e+12        & 0                  \\\\\n",
       "\t 2006-02-11 01:31:58 & 0                   & 0                   & 0                   & 00:14:bf:b1:97:8d   & -65                 & 1.139643e+12        & 0                  \\\\\n",
       "\t 2006-02-11 01:31:58 & 0                   & 0                   & 0                   & 00:14:bf:b1:97:81   & -65                 & 1.139643e+12        & 0                  \\\\\n",
       "\t 2006-02-11 01:31:58 & 0                   & 0                   & 0                   & 00:14:bf:3b:c7:c6   & -66                 & 1.139643e+12        & 0                  \\\\\n",
       "\\end{tabular}\n"
      ],
      "text/markdown": [
       "\n",
       "time | posX | posY | orientation | mac | signal | rawTime | angle | \n",
       "|---|---|---|---|---|---|\n",
       "| 2006-02-11 01:31:58 | 0                   | 0                   | 0                   | 00:14:bf:b1:97:8a   | -38                 | 1.139643e+12        | 0                   | \n",
       "| 2006-02-11 01:31:58 | 0                   | 0                   | 0                   | 00:14:bf:b1:97:90   | -56                 | 1.139643e+12        | 0                   | \n",
       "| 2006-02-11 01:31:58 | 0                   | 0                   | 0                   | 00:0f:a3:39:e1:c0   | -53                 | 1.139643e+12        | 0                   | \n",
       "| 2006-02-11 01:31:58 | 0                   | 0                   | 0                   | 00:14:bf:b1:97:8d   | -65                 | 1.139643e+12        | 0                   | \n",
       "| 2006-02-11 01:31:58 | 0                   | 0                   | 0                   | 00:14:bf:b1:97:81   | -65                 | 1.139643e+12        | 0                   | \n",
       "| 2006-02-11 01:31:58 | 0                   | 0                   | 0                   | 00:14:bf:3b:c7:c6   | -66                 | 1.139643e+12        | 0                   | \n",
       "\n",
       "\n"
      ],
      "text/plain": [
       "  time                posX posY orientation mac               signal\n",
       "1 2006-02-11 01:31:58 0    0    0           00:14:bf:b1:97:8a -38   \n",
       "2 2006-02-11 01:31:58 0    0    0           00:14:bf:b1:97:90 -56   \n",
       "3 2006-02-11 01:31:58 0    0    0           00:0f:a3:39:e1:c0 -53   \n",
       "4 2006-02-11 01:31:58 0    0    0           00:14:bf:b1:97:8d -65   \n",
       "5 2006-02-11 01:31:58 0    0    0           00:14:bf:b1:97:81 -65   \n",
       "6 2006-02-11 01:31:58 0    0    0           00:14:bf:3b:c7:c6 -66   \n",
       "  rawTime      angle\n",
       "1 1.139643e+12 0    \n",
       "2 1.139643e+12 0    \n",
       "3 1.139643e+12 0    \n",
       "4 1.139643e+12 0    \n",
       "5 1.139643e+12 0    \n",
       "6 1.139643e+12 0    "
      ]
     },
     "metadata": {},
     "output_type": "display_data"
    }
   ],
   "source": [
    "head(offline)"
   ]
  },
  {
   "cell_type": "code",
   "execution_count": null,
   "metadata": {},
   "outputs": [],
   "source": []
  }
 ],
 "metadata": {
  "kernelspec": {
   "display_name": "R",
   "language": "R",
   "name": "ir"
  },
  "language_info": {
   "codemirror_mode": "r",
   "file_extension": ".r",
   "mimetype": "text/x-r-source",
   "name": "R",
   "pygments_lexer": "r",
   "version": "3.5.1"
  }
 },
 "nbformat": 4,
 "nbformat_minor": 2
}
